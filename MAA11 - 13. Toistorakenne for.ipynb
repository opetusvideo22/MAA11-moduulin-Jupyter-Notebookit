{
 "cells": [
  {
   "cell_type": "markdown",
   "id": "4b9d793a",
   "metadata": {},
   "source": [
    "# MAA11 - 13. Toistorakenne `for`\n",
    "\n",
    "Viime kerralla opittu `while`-silmukka toisti samaa koodin pätkää, kunnes annettu ehto toteutui. Joskus haluemme toistaa tiettyä koodin pätkää täsmällisen määrän kertoja tai haluamme käydä läpi listaa, jonka jäsenille tehdään samat asiat. Tällöin `for`-silmukka voi olla kätevämpi ratkaisu.\n",
    "\n",
    "Tarkastellaan esimerkkien avulla, kuinka Pythonin `for`-silmukka toimii sekä miten `range()`-funktiota käytetään silmukoiden kanssa. Lisäksi tutustumme lyhyesti Pythonin tietorakenteeseen **listat**."
   ]
  },
  {
   "cell_type": "markdown",
   "id": "13b410e3",
   "metadata": {},
   "source": [
    "## Listat lyhyesti\n",
    "\n",
    "Pythonissa **lista** merkitään hakasulkeiden `[ ]` avulla. Lista voi sisältää useita arvoja (alkioita), kuten kokonaislukuja tai merkkijonoja, ja alkiot erotetaan pilkulla.\n",
    "\n",
    "Alla olevassa koodissa on esimerkkinä kaksi listaa. Aja koodi, jotta näet millaisen tulosteen saat."
   ]
  },
  {
   "cell_type": "code",
   "execution_count": null,
   "id": "c331f5e2-5037-49c5-9564-83ce72f5815b",
   "metadata": {},
   "outputs": [],
   "source": [
    "arvosanat = [4, 5, 6, 7, 8, 9, 10]\n",
    "nimet = [\"Tiina\", \"Tiina\", \"Niina\", \"Sami\", \"Matti\", \"Ida\", \"Kirsi\", \"Emma-Noora\"]\n",
    "\n",
    "print(arvosanat)\n",
    "print(nimet)"
   ]
  },
  {
   "cell_type": "markdown",
   "id": "2e03fa06-16cd-495f-beeb-a0a1f36b2033",
   "metadata": {},
   "source": [
    "Alla olevassa koodissa on annettu esimerkkinä Oulun La Festan pizzalista Python-listana. Lisäksi listan alla on erilaisia komentoja listojen tutkimiseen. Testaa ja selvitä, mitä komennot tekevät."
   ]
  },
  {
   "cell_type": "code",
   "execution_count": null,
   "id": "2eec017b-4c80-4f9f-8e17-9260bd480ee5",
   "metadata": {},
   "outputs": [],
   "source": [
    "pizzat = [\n",
    "    \"Bella\", \"Artista\", \"Mediterranean\", \"Merinos\", \"Capriccioca\", \"Ciao-ciao\",\n",
    "    \"Cacciatora\", \"Italia\", \"Lapponia\", \"Il Mare\", \"La Festa\", \"Tonno-pepperoni\",\n",
    "    \"Pappagallo\", \"Quatro Stagioni\", \"Roma\", \"Hawaii\", \"Mexicana\", \"Vegetariana\",\n",
    "    \"Venezia\", \"Vesuvio\", \"Napolitano\", \"Italia Special\", \"Sicilia\", \"Fantasia\",\n",
    "    \"Milano\", \"Rafaello\", \"Alobelo\", \"Tropicana\", \"Marinara\", \"Firenze\", \"Alatino\",\n",
    "    \"Bruno\", \"Capuso\", \"Amore\", \"Da Vinci\", \"Mozzarella\", \"Pavarotti\", \"Piano\",\n",
    "    \"Pompeij\", \"La Boheme\", \"Antica\", \"Postumi della Sbornia\", \"Michelangelo\",\n",
    "    \"Pizza Nacho Hot\", \"Ti Amo\", \"Al Capone\", \"Pulled Beef\", \"Rustica\", \"La Spezia\",\n",
    "    \"Capri\", \"Matador\", \"Grazie\", \"Alla Diavola\", \"Colosseum\", \"Prego\", \"Toscana\",\n",
    "    \"Special Margherita\", \"Superbo\", \"Truffo\", \"Spicy Rosso\", \"Etna\", \"Rimini\",\n",
    "    \"Bravo! (valkoinen pizza)\", \"Cara Mia\", \"Robadamatti\", \"Piacente (vegaani)\",\n",
    "    \"Vöner Pizza (vegaaninen)\"\n",
    "]\n",
    "\n",
    "print(len(menu)) # Mitä tämä komento tulostaa?\n",
    "print(menu[1]) # Mikä on tulostetun pizzan järjestysnumero listassa? Eli monesko pizza se on listalla?\n",
    "print(menu[22])"
   ]
  },
  {
   "cell_type": "markdown",
   "id": "d6c285f0-6f9f-47a8-a0cc-e299d740db80",
   "metadata": {},
   "source": [
    "Mikäli haluat lisätä jo olemassa olevaan listaan uusia jäseniä, se onnistuu `append`-komennolla. Kokeile alla olevaa esimerkkiä."
   ]
  },
  {
   "cell_type": "code",
   "execution_count": null,
   "id": "cc93dcbc-dd94-45d8-9b7e-6fa2854b840a",
   "metadata": {},
   "outputs": [],
   "source": [
    "kebab_kastikkeet = [\"mieto\", \"valkosipuli\", \"tulinen\"]\n",
    "\n",
    "kebab_kastikkeet.append(\"rölli\") # Lisätään listalle uusi kastike\n",
    "\n",
    "print(kebab_kastikkeet) # Tulostetaan päivitetty lista"
   ]
  },
  {
   "cell_type": "markdown",
   "id": "e7bd015f-4d8d-4434-b661-4211b97d09e1",
   "metadata": {},
   "source": [
    "## `for`-toistorakenne\n",
    "\n",
    "Tutustutaan päivän pääteeman eli `for`-toistorakenteen toimintaan suoraan esimerkkien avulla. Lue koodit ja aja ne."
   ]
  },
  {
   "cell_type": "code",
   "execution_count": null,
   "id": "96f14d8f",
   "metadata": {},
   "outputs": [],
   "source": [
    "#Tulostetaan listan alkiot for-silmukan avulla\n",
    "\n",
    "kebab_kastikkeet = [\"mieto\", \"valkosipuli\", \"tulinen\", \"rölli\"]\n",
    "\n",
    "for soosi in kebab_kastikkeet:          # Käydään lista läpi alkio kerrallaan\n",
    "    print(soosi)                        # Tulostetaan kunkin alkion arvo"
   ]
  },
  {
   "cell_type": "markdown",
   "id": "39cc83d4",
   "metadata": {},
   "source": [
    "Yllä olevassa silmukassa muuttuja `soosi` saa jokaisella kierroksella arvokseen seuraavan listan alkion. Silmukka toistaa rungon niin monta kertaa kuin listassa on alkioita. On hyvää käytäntöä valita muuttujalle kuvaava nimi, esimerkiksi `for luku in numerot:`tao alla olevassa esimerkissä `for nimi in nimet:`.\n",
    "\n",
    "Aja myös alla oleva esimerkki."
   ]
  },
  {
   "cell_type": "code",
   "execution_count": null,
   "id": "e078dc2a",
   "metadata": {},
   "outputs": [],
   "source": [
    "#For-silmukka, joka tervehtii valittuja listan nimiä\n",
    "\n",
    "nimet = [\"Tiina\", \"Tiina\", \"Niina\", \"Sami\", \"Matti\", \"Ida\", \"Kirsi\", \"Emma-Noora\"]\n",
    "\n",
    "for nimi in nimet:\n",
    "    if nimi == \"Sami\":\n",
    "        print(\"Sulla on vetskari auki\", nimi)\n",
    "    else:\n",
    "        print(\"Hei\", nimi)"
   ]
  },
  {
   "cell_type": "markdown",
   "id": "c65ddb0a-3446-4b90-9878-87378766d841",
   "metadata": {},
   "source": [
    "Edellisestä esimerkistä voit huomata, että silmukan sisään voidaan upottaa muita jo tuttuja rakenteita, kuten `if-else`. Yhdistämällä erilaisia rakenteita voimme luoda jo melko monimutkaisia ohjelmia!"
   ]
  },
  {
   "cell_type": "markdown",
   "id": "a5145dac",
   "metadata": {},
   "source": [
    "**Harjoitustehtävä**: Määritä lista `numerot`, joka sisältää kokonaisluvut väliltä 1-20. Tee lisäksi koodi, joka käy `for`-silmukalla läpi kaikki listan numerot ja tulostaa numeron, jos se on jaollinen kolmella."
   ]
  },
  {
   "cell_type": "code",
   "execution_count": null,
   "id": "83ba958a",
   "metadata": {},
   "outputs": [],
   "source": []
  },
  {
   "cell_type": "markdown",
   "id": "01774faa",
   "metadata": {},
   "source": [
    "## For-silmukka ja `range()`\n",
    "\n",
    "`for`-silmukkaa käytetään usein toistamaan jokin operaatio tietyn määrän kertoja tai käymään läpi lukuväli. Tämä onnistuu kätevästi Pythoniin sisäänrakennetun **`range`**-funktion avulla.\n",
    "\n",
    "- `range(n)` tuottaa luvut `0, 1, 2, ..., n-1` (n ei kuulu mukaan).\n",
    "- `range(a, b)` tuottaa luvut `a, a+1, ..., b-1`.\n",
    "- `range(a, b, s)` käyttää askelväliä `s` (voi olla myös negatiivinen).\n"
   ]
  },
  {
   "cell_type": "code",
   "execution_count": null,
   "id": "348bc3d2",
   "metadata": {},
   "outputs": [],
   "source": [
    "# for-silmukka, jossa käytetään range(n)\n",
    "\n",
    "for i in range(5):         # i saa arvot 0,1,2,3,4\n",
    "    print(i)"
   ]
  },
  {
   "cell_type": "markdown",
   "id": "96811699",
   "metadata": {},
   "source": [
    "Jos haluaisit luvut 1–5, käytä `range(1, 6)`. Huomaa, että toinen parametri on aina yhtä suurempi kuin viimeinen haluttu luku.\n"
   ]
  },
  {
   "cell_type": "code",
   "execution_count": null,
   "id": "26953f0b",
   "metadata": {},
   "outputs": [],
   "source": [
    "#for-silmukka, jossa käytetään range(a, b)\n",
    "\n",
    "for i in range(1, 6):      # i saa arvot 3,4,5,6\n",
    "    print(i)"
   ]
  },
  {
   "cell_type": "markdown",
   "id": "b3bf22e9",
   "metadata": {},
   "source": [
    "Kolmas parametri on askelväli: esimerkiksi `range(1, 10, 2)` tuottaa 1,3,5,7,9. **Muokkaa** alla olevan `range`-komennon sisään sellaiset luvut a, b, ja n, että koodi lisää määritettyyn listaan kaikki parilliset kaksi numeroiset kokonaisluvut."
   ]
  },
  {
   "cell_type": "code",
   "execution_count": null,
   "id": "5274be1f-96c8-4de1-aea8-3a8c1ec18d8d",
   "metadata": {},
   "outputs": [],
   "source": [
    "# for-silmukka, jossa käytetään range(a,b,n)\n",
    "\n",
    "parilliset_kaksinumeroiset_luvut = [] # Määritetään tyhjä lista\n",
    "\n",
    "for i in range(a,b,n): # Säädä kohdalleen luvut a, b ja n\n",
    "    parilliset_kaksinumeroiset_luvut.append(i) # Lisää listaan kyseisen luvun.\n",
    "\n",
    "print(parilliset_kaksinumeroiset_luvut)"
   ]
  },
  {
   "cell_type": "markdown",
   "id": "2dff0fbc",
   "metadata": {},
   "source": [
    "**Harjoitustehtävä**: Laske for-silmukan avulla summa 1+2+3+...+998+999+1000 ja tulosta lopputulos. Käytä apuna `range`-funktiota tuottamaan tarvittavat luvut. Alla olevaan koodisoluun on jo valmiiksi määritelty muuttuja nimeltä `summa` ja sille arvoksi nolla. Kirjoita for-silmukan sisään koodi, joka lisää tuohon samaiseen muuttujaan joka kierroksella oikean luvun. Vastaukseksi pitäisi tulla 500500."
   ]
  },
  {
   "cell_type": "code",
   "execution_count": null,
   "id": "8c08c9d5",
   "metadata": {},
   "outputs": [],
   "source": [
    "summa = 0\n",
    "\n",
    "# Kirjoita tähän for-silmukka\n",
    "\n",
    "# Kirjoita loppuun tulostus summalle"
   ]
  }
 ],
 "metadata": {
  "kernelspec": {
   "display_name": "Python 3 (ipykernel)",
   "language": "python",
   "name": "python3"
  },
  "language_info": {
   "codemirror_mode": {
    "name": "ipython",
    "version": 3
   },
   "file_extension": ".py",
   "mimetype": "text/x-python",
   "name": "python",
   "nbconvert_exporter": "python",
   "pygments_lexer": "ipython3",
   "version": "3.13.5"
  }
 },
 "nbformat": 4,
 "nbformat_minor": 5
}
