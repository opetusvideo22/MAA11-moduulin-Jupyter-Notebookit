{
 "cells": [
  {
   "cell_type": "markdown",
   "id": "3eba9215-3899-4794-bd08-dda845fc7c37",
   "metadata": {},
   "source": [
    "# MAA11 - Tutustuminen Jupyter Notebookiin\n",
    "\n",
    "Jupyter Notebook on ohjelmointiympäristö, jossa voit kirjoittaa ja ajaa koodia (esim. Pythonia) suoraan selaimessa. Se koostuu \"soluista\", joihin voi kirjoittaa koodia tai selittävää tekstiä, ja koodin tulokset näkyvät heti solun alla. Sitä käytetään paljon datan käsittelyyn, kokeiluihin ja oppimiseen, koska se mahdollistaa koodin, kuvien, kaavioiden ja selitysten yhdistämisen yhteen dokumenttiin sekä koodin läpikäymisen vaihe vaiheelta.\n",
    "\n",
    "Kun täydennät tiedostoa, se ei tallennu itsestään ja jos jätät tämän auki etkä tee tiedostolla mitään n. 10 minuuttiin, yhteys katkeaa ja tiedosto tulee avata uudelleen. Jupyter Notebook -tiedostoja ei tarvitse palauttaa, mutta voit ottaa sen itsellesi talteen valikosta html-muodossa (`File`, `Save and export notebook as`, `HTML`). Ladatun tiedoston voi avata selaimessa, mutta se on vain eräänlainen kuvakaappaus tästä sivusta."
   ]
  },
  {
   "cell_type": "markdown",
   "id": "850ab565-63d3-48e1-bfc9-211129c58c28",
   "metadata": {},
   "source": [
    "Tulet näkemään Jupyter Notebook -tiedostoissa kahdenlaisia soluja: teksti- ja koodisoluja. Koodisolut erotat solun vasemmassa reunassa olevista hakasulkeista ja kakoispisteestä niiden perässä `[ ]:`.\n",
    "\n",
    "Kun kirjoitettu koodi on valmis, se **ajetaan** eli pyydetään tietokonetta toteuttamaan koodin komennot. Jupyter Notebookissa koodin ajaminen tapahtuu klikkaamalla koodisolu aktiiviseksi ja painamalla `shift-enter`-näppäinyhdistelmän. Vaihtoehtoisesti koodi voidaan ajaa myös yläpalkin play-painikkeesta.\n",
    "\n",
    "Kokeile ajaa alla oleva koodi."
   ]
  },
  {
   "cell_type": "code",
   "execution_count": null,
   "id": "9e49c436-2a0a-4da6-8ca4-581b1cde9e9d",
   "metadata": {},
   "outputs": [],
   "source": [
    "print(\"Moi!\")"
   ]
  },
  {
   "cell_type": "markdown",
   "id": "a5cfd11f-1a91-4304-a183-b0a838a69513",
   "metadata": {},
   "source": [
    "Seuraavaksi esitellään esimerkkinä hieman monimutkaisempi koodi, jossa simuloidaan ratkaisua kevään 2022 pitkän matematiikan YO-tehtävään. Alla tehtävänanto sekä koodi."
   ]
  },
  {
   "cell_type": "markdown",
   "id": "e9cf497c-9c00-4f30-be1c-e414504a063b",
   "metadata": {},
   "source": [
    "_Makeispussissa on 22 salmiakkimakeista ja 19 hedelmämakeista. Eeri ottaa pussista kolme makeista. Millä todennäköisyydellä kaikki kolme ovat hedelmämakeisia? (6 p.)_"
   ]
  },
  {
   "cell_type": "code",
   "execution_count": null,
   "id": "038f56f1-a9b4-4203-931c-f5bb1e3c9c26",
   "metadata": {},
   "outputs": [],
   "source": [
    "import random\n",
    "\n",
    "# Määritetään karkkipussin sisältö listana\n",
    "karkkipussi = karkkipussi = [\"salmiakki\"] * 22 + [\"hedelma\"] * 19\n",
    "\n",
    "# Toistetaan koe toistomäärän verran ja lasketaan, kuinka monesti onnistutaan saamaan kolme hedelmäkarkkia\n",
    "toistolaskuri = 1\n",
    "onnistuneet = 0\n",
    "toistomaara = 10000\n",
    "\n",
    "while toistolaskuri < toistomaara:\n",
    "   random.shuffle(karkkipussi)\n",
    "   if karkkipussi[0] == \"hedelma\" and karkkipussi[1] == \"hedelma\" and karkkipussi[2] == \"hedelma\":\n",
    "       onnistuneet = onnistuneet + 1\n",
    "   toistolaskuri = toistolaskuri + 1\n",
    "\n",
    "# Lasketaan arvioitu todennäköisyys\n",
    "vastaus = onnistuneet/toistomaara\n",
    "\n",
    "# Tulostetaan vastaus\n",
    "print(\"Todennäköisyys on:\", vastaus)"
   ]
  },
  {
   "cell_type": "markdown",
   "id": "82c4c115-63cf-4556-b81f-fde6f6fe506f",
   "metadata": {},
   "source": [
    "Joskus ajettava ohjelma eli koodi voi pyytää käyttäjältä syötettä. Aja oheinen koodi ja toimi sen ohjeiden mukaisesti."
   ]
  },
  {
   "cell_type": "code",
   "execution_count": null,
   "id": "f57b02f0-a27e-4a87-ad7f-80ef1494ecf5",
   "metadata": {},
   "outputs": [],
   "source": [
    "import random\n",
    "\n",
    "print(\" \")\n",
    "print(\"NUMEROARVAUSPELI\")\n",
    "print(\" \")\n",
    "print(\"Kuinka monella yrityksellä osaat arvata oikean numeron väliltä 1-100?\")\n",
    "print(\" \")\n",
    "print(\"Arvotaan satunnaista numeroa ...\")\n",
    "print(\" \")\n",
    "\n",
    "luku = random.randint(1,100)\n",
    "yritys = 0\n",
    "\n",
    "while True:\n",
    "    yritys = yritys + 1\n",
    "    arvaus = int(input(\"Anna arvauksesi väliltä 1-100 ja paina enter:\"))\n",
    "    if arvaus == luku:\n",
    "        print(\"Oikein meni! Jouduit arvaamaan lukua\",yritys,\"kertaa.\")\n",
    "        print(\" \")\n",
    "        break\n",
    "    elif arvaus > luku:\n",
    "        print(\"Väärin meni. Yritä pienempää arvausta.\")\n",
    "        print(\" \")\n",
    "    else:\n",
    "        print(\"Väärin meni. Yritä suurempaa arvausta.\")\n",
    "        print(\" \")\n",
    "    \n",
    "print(\"Kiitos kun pelasit!\")"
   ]
  }
 ],
 "metadata": {
  "kernelspec": {
   "display_name": "Python 3 (ipykernel)",
   "language": "python",
   "name": "python3"
  },
  "language_info": {
   "codemirror_mode": {
    "name": "ipython",
    "version": 3
   },
   "file_extension": ".py",
   "mimetype": "text/x-python",
   "name": "python",
   "nbconvert_exporter": "python",
   "pygments_lexer": "ipython3",
   "version": "3.13.5"
  }
 },
 "nbformat": 4,
 "nbformat_minor": 5
}
